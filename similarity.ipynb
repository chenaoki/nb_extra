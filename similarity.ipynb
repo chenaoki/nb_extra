{
 "cells": [
  {
   "cell_type": "markdown",
   "metadata": {},
   "source": [
    "## import"
   ]
  },
  {
   "cell_type": "code",
   "execution_count": 1,
   "metadata": {
    "collapsed": false
   },
   "outputs": [
    {
     "name": "stderr",
     "output_type": "stream",
     "text": [
      "/opt/conda/lib/python3.5/site-packages/matplotlib/font_manager.py:273: UserWarning: Matplotlib is building the font cache using fc-list. This may take a moment.\n",
      "  warnings.warn('Matplotlib is building the font cache using fc-list. This may take a moment.')\n",
      "/opt/conda/lib/python3.5/site-packages/matplotlib/font_manager.py:273: UserWarning: Matplotlib is building the font cache using fc-list. This may take a moment.\n",
      "  warnings.warn('Matplotlib is building the font cache using fc-list. This may take a moment.')\n"
     ]
    }
   ],
   "source": [
    "import json, os, math, sys, glob\n",
    "import numpy as np\n",
    "import scipy\n",
    "import pandas as pd\n",
    "import matplotlib.pyplot as plt\n",
    "import cv2\n",
    "%matplotlib inline"
   ]
  },
  {
   "cell_type": "code",
   "execution_count": 2,
   "metadata": {
    "collapsed": false
   },
   "outputs": [],
   "source": [
    "sys.path.append('./opmap/')\n",
    "from opmap.phaseMap import PhaseMap\n",
    "from opmap.phaseVarianceMap import PhaseVarianceMap\n",
    "from opmap.PhaseVariancePeakMap import PhaseVariancePeakMap"
   ]
  },
  {
   "cell_type": "code",
   "execution_count": 85,
   "metadata": {
    "collapsed": false
   },
   "outputs": [],
   "source": [
    "from util_ana import set_col_extra"
   ]
  },
  {
   "cell_type": "markdown",
   "metadata": {},
   "source": [
    "## Functions"
   ]
  },
  {
   "cell_type": "code",
   "execution_count": 3,
   "metadata": {
    "collapsed": true
   },
   "outputs": [],
   "source": [
    "def normalize(im):\n",
    "    return (im - im.min())/max(im.max()-im.min(), 1.0e-10)\n",
    "\n",
    "def CenterOfGravity(mat):\n",
    "    hei,wid = mat.shape\n",
    "    Tile=np.arange(wid,dtype=float)-(wid-1.0)/2.0\n",
    "    Tx = np.tile(Tile,[hei,1])\n",
    "    Sum = np.sum(mat)\n",
    "    Ax = np.sum(mat*Tx)/Sum\n",
    "    Ay = np.sum(mat*Tx.T)/Sum\n",
    "    return math.atan2(Ay, Ax), np.linalg.norm(np.array([Ay, Ax]))"
   ]
  },
  {
   "cell_type": "code",
   "execution_count": 4,
   "metadata": {
    "collapsed": true
   },
   "outputs": [],
   "source": [
    "def analyze_non_passive(ps):\n",
    "    flag_np = (np.sum(np.sum(ps.data, axis=1), axis=1)>0)*1\n",
    "    rate_np = np.sum(flag_np)/float(len(flag_np))\n",
    "    return flag_np, rate_np"
   ]
  },
  {
   "cell_type": "code",
   "execution_count": 5,
   "metadata": {
    "collapsed": true
   },
   "outputs": [],
   "source": [
    "def draw(pmap_path, ps):\n",
    "    \n",
    "    files = sorted(glob.glob(os.path.join(pmap_path,\"00*.png\")))\n",
    "    \n",
    "    save_path = pmap_path.rstrip('/')+'_ps'    \n",
    "    if not os.path.exists(save_path): os.makedirs(save_path)\n",
    "        \n",
    "    for i, path in enumerate(files):\n",
    "        img = cv2.imread(path)\n",
    "        if i >= len(ps.data) : break\n",
    "        img[ps.data[i,:] > 0] = [255,255,255]\n",
    "        cv2.imwrite(os.path.join(save_path,\"{0:0>6}.png\".format(i)),img)\n",
    "        \n",
    "    return save_path"
   ]
  },
  {
   "cell_type": "code",
   "execution_count": 6,
   "metadata": {
    "collapsed": true
   },
   "outputs": [],
   "source": [
    "def saveMovie(dir_path):\n",
    "    m_rate = 20\n",
    "    cmd = 'ffmpeg -r {0} -y -i \"{1}/%06d.png\" -c:v libx264 -pix_fmt yuv420p -qscale 0 \"{1}.mp4\"'.format(m_rate, dir_path.rstrip('/'))\n",
    "    os.system(cmd)"
   ]
  },
  {
   "cell_type": "code",
   "execution_count": 7,
   "metadata": {
    "collapsed": false
   },
   "outputs": [],
   "source": [
    "def phaseComplement(value):\n",
    "    value -= (value > np.pi)*2*np.pi\n",
    "    value += (value < - np.pi)*2*np.pi\n",
    "    return value"
   ]
  },
  {
   "cell_type": "code",
   "execution_count": 8,
   "metadata": {
    "collapsed": true
   },
   "outputs": [],
   "source": [
    "def rate_non_passive(ps):\n",
    "    flg = (np.sum(np.sum(ps.data, axis=1), axis=1)>0)*1\n",
    "    rate = np.sum(flg) / float(len(flg))\n",
    "    return flg, rate"
   ]
  },
  {
   "cell_type": "code",
   "execution_count": 9,
   "metadata": {
    "collapsed": true
   },
   "outputs": [],
   "source": [
    "def saveMovie(dir_path):\n",
    "    m_rate = 20\n",
    "    cmd = 'ffmpeg -r {0} -y -i \"{1}/%06d.png\" -c:v libx264 -pix_fmt yuv420p -qscale 0 \"{1}.mp4\"'.format(m_rate, dir_path.rstrip('/'))\n",
    "    os.system(cmd)"
   ]
  },
  {
   "cell_type": "markdown",
   "metadata": {},
   "source": [
    "## Parameters"
   ]
  },
  {
   "cell_type": "code",
   "execution_count": 104,
   "metadata": {
    "collapsed": true
   },
   "outputs": [],
   "source": [
    "out_date = '20190828'\n",
    "opath = \"/mnt/Omer/Project/04.ExTRaMapping/AnalysisResult/\"\n",
    "start = 100\n",
    "end = 2000"
   ]
  },
  {
   "cell_type": "code",
   "execution_count": 11,
   "metadata": {
    "collapsed": false,
    "scrolled": true
   },
   "outputs": [
    {
     "data": {
      "text/html": [
       "<div>\n",
       "<table border=\"1\" class=\"dataframe\">\n",
       "  <thead>\n",
       "    <tr style=\"text-align: right;\">\n",
       "      <th></th>\n",
       "      <th>﻿id</th>\n",
       "      <th>sample</th>\n",
       "      <th>session</th>\n",
       "      <th>elec_pattern</th>\n",
       "      <th>extra_dir</th>\n",
       "      <th>extra_sess</th>\n",
       "      <th>extra_delay</th>\n",
       "    </tr>\n",
       "  </thead>\n",
       "  <tbody>\n",
       "    <tr>\n",
       "      <th>0</th>\n",
       "      <td>5</td>\n",
       "      <td>20180425-1</td>\n",
       "      <td>5</td>\n",
       "      <td>0</td>\n",
       "      <td>20180425</td>\n",
       "      <td>e002_04251532</td>\n",
       "      <td>0</td>\n",
       "    </tr>\n",
       "    <tr>\n",
       "      <th>1</th>\n",
       "      <td>9</td>\n",
       "      <td>20180425-1</td>\n",
       "      <td>9</td>\n",
       "      <td>0</td>\n",
       "      <td>20180425</td>\n",
       "      <td>e006_04251612</td>\n",
       "      <td>0</td>\n",
       "    </tr>\n",
       "    <tr>\n",
       "      <th>2</th>\n",
       "      <td>21</td>\n",
       "      <td>20180426-1</td>\n",
       "      <td>6</td>\n",
       "      <td>1</td>\n",
       "      <td>20180426</td>\n",
       "      <td>e001_04261048</td>\n",
       "      <td>0</td>\n",
       "    </tr>\n",
       "    <tr>\n",
       "      <th>3</th>\n",
       "      <td>25</td>\n",
       "      <td>20180426-1</td>\n",
       "      <td>10</td>\n",
       "      <td>3</td>\n",
       "      <td>20180426</td>\n",
       "      <td>e004_04261058</td>\n",
       "      <td>136</td>\n",
       "    </tr>\n",
       "    <tr>\n",
       "      <th>4</th>\n",
       "      <td>28</td>\n",
       "      <td>20180426-1</td>\n",
       "      <td>13</td>\n",
       "      <td>4</td>\n",
       "      <td>20180426</td>\n",
       "      <td>e007_04261105</td>\n",
       "      <td>0</td>\n",
       "    </tr>\n",
       "    <tr>\n",
       "      <th>5</th>\n",
       "      <td>50</td>\n",
       "      <td>20180612-1</td>\n",
       "      <td>6</td>\n",
       "      <td>6</td>\n",
       "      <td>20180612</td>\n",
       "      <td>e001_06121525</td>\n",
       "      <td>136</td>\n",
       "    </tr>\n",
       "    <tr>\n",
       "      <th>6</th>\n",
       "      <td>52</td>\n",
       "      <td>20180612-1</td>\n",
       "      <td>8</td>\n",
       "      <td>7</td>\n",
       "      <td>20180612</td>\n",
       "      <td>e003_06121541</td>\n",
       "      <td>0</td>\n",
       "    </tr>\n",
       "    <tr>\n",
       "      <th>7</th>\n",
       "      <td>54</td>\n",
       "      <td>20180612-1</td>\n",
       "      <td>10</td>\n",
       "      <td>8</td>\n",
       "      <td>20180612</td>\n",
       "      <td>e005_06121551</td>\n",
       "      <td>136</td>\n",
       "    </tr>\n",
       "    <tr>\n",
       "      <th>8</th>\n",
       "      <td>57</td>\n",
       "      <td>20180612-1</td>\n",
       "      <td>13</td>\n",
       "      <td>9</td>\n",
       "      <td>20180612</td>\n",
       "      <td>e008_06121610</td>\n",
       "      <td>0</td>\n",
       "    </tr>\n",
       "    <tr>\n",
       "      <th>9</th>\n",
       "      <td>64</td>\n",
       "      <td>20180614-1</td>\n",
       "      <td>5</td>\n",
       "      <td>10</td>\n",
       "      <td>20180614</td>\n",
       "      <td>e001_06141447</td>\n",
       "      <td>0</td>\n",
       "    </tr>\n",
       "    <tr>\n",
       "      <th>10</th>\n",
       "      <td>66</td>\n",
       "      <td>20180614-1</td>\n",
       "      <td>7</td>\n",
       "      <td>10</td>\n",
       "      <td>20180614</td>\n",
       "      <td>e003_06141451</td>\n",
       "      <td>136</td>\n",
       "    </tr>\n",
       "    <tr>\n",
       "      <th>11</th>\n",
       "      <td>67</td>\n",
       "      <td>20180614-1</td>\n",
       "      <td>8</td>\n",
       "      <td>10</td>\n",
       "      <td>20180614</td>\n",
       "      <td>e004_06141453</td>\n",
       "      <td>0</td>\n",
       "    </tr>\n",
       "    <tr>\n",
       "      <th>12</th>\n",
       "      <td>68</td>\n",
       "      <td>20180614-1</td>\n",
       "      <td>9</td>\n",
       "      <td>10</td>\n",
       "      <td>20180614</td>\n",
       "      <td>e005_06141455</td>\n",
       "      <td>0</td>\n",
       "    </tr>\n",
       "    <tr>\n",
       "      <th>13</th>\n",
       "      <td>69</td>\n",
       "      <td>20180614-1</td>\n",
       "      <td>10</td>\n",
       "      <td>11</td>\n",
       "      <td>20180614</td>\n",
       "      <td>e006_06141501</td>\n",
       "      <td>0</td>\n",
       "    </tr>\n",
       "    <tr>\n",
       "      <th>14</th>\n",
       "      <td>80</td>\n",
       "      <td>20180731-1</td>\n",
       "      <td>5</td>\n",
       "      <td>13</td>\n",
       "      <td>20180731</td>\n",
       "      <td>e003_07311201</td>\n",
       "      <td>136</td>\n",
       "    </tr>\n",
       "    <tr>\n",
       "      <th>15</th>\n",
       "      <td>81</td>\n",
       "      <td>20180731-1</td>\n",
       "      <td>6</td>\n",
       "      <td>14</td>\n",
       "      <td>20180731</td>\n",
       "      <td>e004_07311208</td>\n",
       "      <td>0</td>\n",
       "    </tr>\n",
       "    <tr>\n",
       "      <th>16</th>\n",
       "      <td>88</td>\n",
       "      <td>20180731-1</td>\n",
       "      <td>13</td>\n",
       "      <td>15</td>\n",
       "      <td>20180731</td>\n",
       "      <td>e010_07311237</td>\n",
       "      <td>0</td>\n",
       "    </tr>\n",
       "    <tr>\n",
       "      <th>17</th>\n",
       "      <td>93</td>\n",
       "      <td>20180731-1</td>\n",
       "      <td>18</td>\n",
       "      <td>19</td>\n",
       "      <td>20180731</td>\n",
       "      <td>e015_07311256</td>\n",
       "      <td>0</td>\n",
       "    </tr>\n",
       "    <tr>\n",
       "      <th>18</th>\n",
       "      <td>95</td>\n",
       "      <td>20180731-1</td>\n",
       "      <td>20</td>\n",
       "      <td>20</td>\n",
       "      <td>20180731</td>\n",
       "      <td>e017_07311314</td>\n",
       "      <td>136</td>\n",
       "    </tr>\n",
       "    <tr>\n",
       "      <th>19</th>\n",
       "      <td>98</td>\n",
       "      <td>20180731-1</td>\n",
       "      <td>23</td>\n",
       "      <td>21</td>\n",
       "      <td>20180731</td>\n",
       "      <td>e020_07311320</td>\n",
       "      <td>136</td>\n",
       "    </tr>\n",
       "    <tr>\n",
       "      <th>20</th>\n",
       "      <td>100</td>\n",
       "      <td>20180731-1</td>\n",
       "      <td>25</td>\n",
       "      <td>22</td>\n",
       "      <td>20180731</td>\n",
       "      <td>e022_07311324</td>\n",
       "      <td>0</td>\n",
       "    </tr>\n",
       "    <tr>\n",
       "      <th>21</th>\n",
       "      <td>101</td>\n",
       "      <td>20180731-1</td>\n",
       "      <td>26</td>\n",
       "      <td>22</td>\n",
       "      <td>20180731</td>\n",
       "      <td>e023_07311327</td>\n",
       "      <td>136</td>\n",
       "    </tr>\n",
       "    <tr>\n",
       "      <th>22</th>\n",
       "      <td>102</td>\n",
       "      <td>20180731-1</td>\n",
       "      <td>27</td>\n",
       "      <td>22</td>\n",
       "      <td>20180731</td>\n",
       "      <td>e024_07311328</td>\n",
       "      <td>0</td>\n",
       "    </tr>\n",
       "    <tr>\n",
       "      <th>23</th>\n",
       "      <td>103</td>\n",
       "      <td>20180731-1</td>\n",
       "      <td>28</td>\n",
       "      <td>22</td>\n",
       "      <td>20180731</td>\n",
       "      <td>e025_07311329</td>\n",
       "      <td>0</td>\n",
       "    </tr>\n",
       "    <tr>\n",
       "      <th>24</th>\n",
       "      <td>105</td>\n",
       "      <td>20180731-1</td>\n",
       "      <td>30</td>\n",
       "      <td>22</td>\n",
       "      <td>20180731</td>\n",
       "      <td>e027_07311332</td>\n",
       "      <td>136</td>\n",
       "    </tr>\n",
       "    <tr>\n",
       "      <th>25</th>\n",
       "      <td>106</td>\n",
       "      <td>20180731-1</td>\n",
       "      <td>31</td>\n",
       "      <td>22</td>\n",
       "      <td>20180731</td>\n",
       "      <td>e028_07311334</td>\n",
       "      <td>0</td>\n",
       "    </tr>\n",
       "    <tr>\n",
       "      <th>26</th>\n",
       "      <td>118</td>\n",
       "      <td>20181120-1</td>\n",
       "      <td>6</td>\n",
       "      <td>23</td>\n",
       "      <td>20181120</td>\n",
       "      <td>e006_11201522</td>\n",
       "      <td>0</td>\n",
       "    </tr>\n",
       "    <tr>\n",
       "      <th>27</th>\n",
       "      <td>120</td>\n",
       "      <td>20181120-1</td>\n",
       "      <td>8</td>\n",
       "      <td>24</td>\n",
       "      <td>20181120</td>\n",
       "      <td>e008_11201612</td>\n",
       "      <td>0</td>\n",
       "    </tr>\n",
       "    <tr>\n",
       "      <th>28</th>\n",
       "      <td>124</td>\n",
       "      <td>20181120-1</td>\n",
       "      <td>12</td>\n",
       "      <td>26</td>\n",
       "      <td>20181120</td>\n",
       "      <td>e012_11201652</td>\n",
       "      <td>0</td>\n",
       "    </tr>\n",
       "    <tr>\n",
       "      <th>29</th>\n",
       "      <td>128</td>\n",
       "      <td>20181120-1</td>\n",
       "      <td>16</td>\n",
       "      <td>27</td>\n",
       "      <td>20181120</td>\n",
       "      <td>e016_11201750</td>\n",
       "      <td>136</td>\n",
       "    </tr>\n",
       "    <tr>\n",
       "      <th>30</th>\n",
       "      <td>138</td>\n",
       "      <td>20181122-1</td>\n",
       "      <td>10</td>\n",
       "      <td>28</td>\n",
       "      <td>20181122</td>\n",
       "      <td>e008_11221121</td>\n",
       "      <td>0</td>\n",
       "    </tr>\n",
       "    <tr>\n",
       "      <th>31</th>\n",
       "      <td>148</td>\n",
       "      <td>20181122-1</td>\n",
       "      <td>20</td>\n",
       "      <td>35</td>\n",
       "      <td>20181122</td>\n",
       "      <td>e018_11221237</td>\n",
       "      <td>136</td>\n",
       "    </tr>\n",
       "    <tr>\n",
       "      <th>32</th>\n",
       "      <td>150</td>\n",
       "      <td>20181122-1</td>\n",
       "      <td>22</td>\n",
       "      <td>37</td>\n",
       "      <td>20181122</td>\n",
       "      <td>e020_11221302</td>\n",
       "      <td>0</td>\n",
       "    </tr>\n",
       "    <tr>\n",
       "      <th>33</th>\n",
       "      <td>160</td>\n",
       "      <td>20190123-1</td>\n",
       "      <td>4</td>\n",
       "      <td>39</td>\n",
       "      <td>20190123</td>\n",
       "      <td>e004_01231521</td>\n",
       "      <td>136</td>\n",
       "    </tr>\n",
       "    <tr>\n",
       "      <th>34</th>\n",
       "      <td>165</td>\n",
       "      <td>20190123-1</td>\n",
       "      <td>9</td>\n",
       "      <td>40</td>\n",
       "      <td>20190123</td>\n",
       "      <td>e011_01231549</td>\n",
       "      <td>136</td>\n",
       "    </tr>\n",
       "    <tr>\n",
       "      <th>35</th>\n",
       "      <td>168</td>\n",
       "      <td>20190123-1</td>\n",
       "      <td>12</td>\n",
       "      <td>41</td>\n",
       "      <td>20190123</td>\n",
       "      <td>e012_01231626</td>\n",
       "      <td>136</td>\n",
       "    </tr>\n",
       "    <tr>\n",
       "      <th>36</th>\n",
       "      <td>172</td>\n",
       "      <td>20190123-1</td>\n",
       "      <td>16</td>\n",
       "      <td>43</td>\n",
       "      <td>20190123</td>\n",
       "      <td>e016_01231709</td>\n",
       "      <td>136</td>\n",
       "    </tr>\n",
       "    <tr>\n",
       "      <th>37</th>\n",
       "      <td>174</td>\n",
       "      <td>20190123-1</td>\n",
       "      <td>18</td>\n",
       "      <td>44</td>\n",
       "      <td>20190123</td>\n",
       "      <td>e018_01231713</td>\n",
       "      <td>136</td>\n",
       "    </tr>\n",
       "    <tr>\n",
       "      <th>38</th>\n",
       "      <td>176</td>\n",
       "      <td>20190123-1</td>\n",
       "      <td>20</td>\n",
       "      <td>44</td>\n",
       "      <td>20190123</td>\n",
       "      <td>e020_01231716</td>\n",
       "      <td>136</td>\n",
       "    </tr>\n",
       "    <tr>\n",
       "      <th>39</th>\n",
       "      <td>178</td>\n",
       "      <td>20190123-1</td>\n",
       "      <td>22</td>\n",
       "      <td>44</td>\n",
       "      <td>20190123</td>\n",
       "      <td>e022_01231720</td>\n",
       "      <td>136</td>\n",
       "    </tr>\n",
       "    <tr>\n",
       "      <th>40</th>\n",
       "      <td>180</td>\n",
       "      <td>20190123-1</td>\n",
       "      <td>24</td>\n",
       "      <td>44</td>\n",
       "      <td>20190123</td>\n",
       "      <td>e024_01231722</td>\n",
       "      <td>136</td>\n",
       "    </tr>\n",
       "    <tr>\n",
       "      <th>41</th>\n",
       "      <td>181</td>\n",
       "      <td>20190123-1</td>\n",
       "      <td>25</td>\n",
       "      <td>44</td>\n",
       "      <td>20190123</td>\n",
       "      <td>e025_01231725</td>\n",
       "      <td>136</td>\n",
       "    </tr>\n",
       "  </tbody>\n",
       "</table>\n",
       "</div>"
      ],
      "text/plain": [
       "    ﻿id      sample  session  elec_pattern  extra_dir     extra_sess  \\\n",
       "0     5  20180425-1        5             0   20180425  e002_04251532   \n",
       "1     9  20180425-1        9             0   20180425  e006_04251612   \n",
       "2    21  20180426-1        6             1   20180426  e001_04261048   \n",
       "3    25  20180426-1       10             3   20180426  e004_04261058   \n",
       "4    28  20180426-1       13             4   20180426  e007_04261105   \n",
       "5    50  20180612-1        6             6   20180612  e001_06121525   \n",
       "6    52  20180612-1        8             7   20180612  e003_06121541   \n",
       "7    54  20180612-1       10             8   20180612  e005_06121551   \n",
       "8    57  20180612-1       13             9   20180612  e008_06121610   \n",
       "9    64  20180614-1        5            10   20180614  e001_06141447   \n",
       "10   66  20180614-1        7            10   20180614  e003_06141451   \n",
       "11   67  20180614-1        8            10   20180614  e004_06141453   \n",
       "12   68  20180614-1        9            10   20180614  e005_06141455   \n",
       "13   69  20180614-1       10            11   20180614  e006_06141501   \n",
       "14   80  20180731-1        5            13   20180731  e003_07311201   \n",
       "15   81  20180731-1        6            14   20180731  e004_07311208   \n",
       "16   88  20180731-1       13            15   20180731  e010_07311237   \n",
       "17   93  20180731-1       18            19   20180731  e015_07311256   \n",
       "18   95  20180731-1       20            20   20180731  e017_07311314   \n",
       "19   98  20180731-1       23            21   20180731  e020_07311320   \n",
       "20  100  20180731-1       25            22   20180731  e022_07311324   \n",
       "21  101  20180731-1       26            22   20180731  e023_07311327   \n",
       "22  102  20180731-1       27            22   20180731  e024_07311328   \n",
       "23  103  20180731-1       28            22   20180731  e025_07311329   \n",
       "24  105  20180731-1       30            22   20180731  e027_07311332   \n",
       "25  106  20180731-1       31            22   20180731  e028_07311334   \n",
       "26  118  20181120-1        6            23   20181120  e006_11201522   \n",
       "27  120  20181120-1        8            24   20181120  e008_11201612   \n",
       "28  124  20181120-1       12            26   20181120  e012_11201652   \n",
       "29  128  20181120-1       16            27   20181120  e016_11201750   \n",
       "30  138  20181122-1       10            28   20181122  e008_11221121   \n",
       "31  148  20181122-1       20            35   20181122  e018_11221237   \n",
       "32  150  20181122-1       22            37   20181122  e020_11221302   \n",
       "33  160  20190123-1        4            39   20190123  e004_01231521   \n",
       "34  165  20190123-1        9            40   20190123  e011_01231549   \n",
       "35  168  20190123-1       12            41   20190123  e012_01231626   \n",
       "36  172  20190123-1       16            43   20190123  e016_01231709   \n",
       "37  174  20190123-1       18            44   20190123  e018_01231713   \n",
       "38  176  20190123-1       20            44   20190123  e020_01231716   \n",
       "39  178  20190123-1       22            44   20190123  e022_01231720   \n",
       "40  180  20190123-1       24            44   20190123  e024_01231722   \n",
       "41  181  20190123-1       25            44   20190123  e025_01231725   \n",
       "\n",
       "    extra_delay  \n",
       "0             0  \n",
       "1             0  \n",
       "2             0  \n",
       "3           136  \n",
       "4             0  \n",
       "5           136  \n",
       "6             0  \n",
       "7           136  \n",
       "8             0  \n",
       "9             0  \n",
       "10          136  \n",
       "11            0  \n",
       "12            0  \n",
       "13            0  \n",
       "14          136  \n",
       "15            0  \n",
       "16            0  \n",
       "17            0  \n",
       "18          136  \n",
       "19          136  \n",
       "20            0  \n",
       "21          136  \n",
       "22            0  \n",
       "23            0  \n",
       "24          136  \n",
       "25            0  \n",
       "26            0  \n",
       "27            0  \n",
       "28            0  \n",
       "29          136  \n",
       "30            0  \n",
       "31          136  \n",
       "32            0  \n",
       "33          136  \n",
       "34          136  \n",
       "35          136  \n",
       "36          136  \n",
       "37          136  \n",
       "38          136  \n",
       "39          136  \n",
       "40          136  \n",
       "41          136  "
      ]
     },
     "execution_count": 11,
     "metadata": {},
     "output_type": "execute_result"
    }
   ],
   "source": [
    "ana_list = pd.read_csv(\"./session_all.csv\")\n",
    "ana_list"
   ]
  },
  {
   "cell_type": "code",
   "execution_count": 12,
   "metadata": {
    "collapsed": true
   },
   "outputs": [],
   "source": [
    "thre_np = 0.5"
   ]
  },
  {
   "cell_type": "markdown",
   "metadata": {},
   "source": [
    "## Main"
   ]
  },
  {
   "cell_type": "code",
   "execution_count": 13,
   "metadata": {
    "collapsed": false
   },
   "outputs": [
    {
     "data": {
      "text/plain": [
       "<matplotlib.image.AxesImage at 0x7f24e2a8a908>"
      ]
     },
     "execution_count": 13,
     "metadata": {},
     "output_type": "execute_result"
    },
    {
     "data": {
      "image/png": "[encoded data removed]",
      "text/plain": [
       "<matplotlib.figure.Figure at 0x7f24e4dd59e8>"
      ]
     },
     "metadata": {},
     "output_type": "display_data"
    }
   ],
   "source": [
    "roi_extra = np.load(\"./roi_extra.npy\")\n",
    "plt.imshow(roi_extra, cmap='gray')"
   ]
  },
  {
   "cell_type": "code",
   "execution_count": 74,
   "metadata": {
    "collapsed": false
   },
   "outputs": [
    {
     "data": {
      "text/plain": [
       "5718"
      ]
     },
     "execution_count": 74,
     "metadata": {},
     "output_type": "execute_result"
    }
   ],
   "source": [
    "n_pixels = np.sum((roi_extra>0.0)*1)\n",
    "n_pixels"
   ]
  },
  {
   "cell_type": "code",
   "execution_count": 139,
   "metadata": {
    "collapsed": false,
    "scrolled": false
   },
   "outputs": [
    {
     "name": "stdout",
     "output_type": "stream",
     "text": [
      "0 /mnt/Omer/Project/04.ExTRaMapping/AnalysisResult/20190828/20180425-1/C001H001S0005\n",
      "0.0 0.012\n",
      "1 /mnt/Omer/Project/04.ExTRaMapping/AnalysisResult/20190828/20180425-1/C001H001S0009\n",
      "0.29 0.01\n",
      "2 /mnt/Omer/Project/04.ExTRaMapping/AnalysisResult/20190828/20180426-1/C001H001S0006\n",
      "0.0 0.03\n",
      "3 /mnt/Omer/Project/04.ExTRaMapping/AnalysisResult/20190828/20180426-1/C001H001S0010\n",
      "0.776381909548 0.820224719101\n",
      "4 /mnt/Omer/Project/04.ExTRaMapping/AnalysisResult/20190828/20180426-1/C001H001S0013\n",
      "0.184 0.002\n",
      "5 /mnt/Omer/Project/04.ExTRaMapping/AnalysisResult/20190828/20180612-1/C001H001S0006\n",
      "0.236180904523 0.00561797752809\n",
      "6 /mnt/Omer/Project/04.ExTRaMapping/AnalysisResult/20190828/20180612-1/C001H001S0008\n",
      "0.66 0.266\n",
      "7 /mnt/Omer/Project/04.ExTRaMapping/AnalysisResult/20190828/20180612-1/C001H001S0010\n",
      "0.0251256281407 0.217228464419\n",
      "8 /mnt/Omer/Project/04.ExTRaMapping/AnalysisResult/20190828/20180612-1/C001H001S0013\n",
      "0.0 0.012\n",
      "9 /mnt/Omer/Project/04.ExTRaMapping/AnalysisResult/20190828/20180614-1/C001H001S0005\n",
      "0.0 0.0\n",
      "10 /mnt/Omer/Project/04.ExTRaMapping/AnalysisResult/20190828/20180614-1/C001H001S0007\n",
      "0.0829145728643 0.00187265917603\n",
      "11 /mnt/Omer/Project/04.ExTRaMapping/AnalysisResult/20190828/20180614-1/C001H001S0008\n",
      "0.0 0.006\n",
      "12 /mnt/Omer/Project/04.ExTRaMapping/AnalysisResult/20190828/20180614-1/C001H001S0009\n",
      "0.142 0.012\n",
      "13 /mnt/Omer/Project/04.ExTRaMapping/AnalysisResult/20190828/20180614-1/C001H001S0010\n",
      "0.0 0.012\n",
      "14 /mnt/Omer/Project/04.ExTRaMapping/AnalysisResult/20190828/20180731-1/C001H001S0005\n",
      "0.0125628140704 0.00561797752809\n",
      "15 /mnt/Omer/Project/04.ExTRaMapping/AnalysisResult/20190828/20180731-1/C001H001S0006\n",
      "0.0 0.008\n",
      "16 /mnt/Omer/Project/04.ExTRaMapping/AnalysisResult/20190828/20180731-1/C001H001S0013\n",
      "0.008 0.04\n",
      "17 /mnt/Omer/Project/04.ExTRaMapping/AnalysisResult/20190828/20180731-1/C001H001S0018\n",
      "1.0 1.0\n",
      "18 /mnt/Omer/Project/04.ExTRaMapping/AnalysisResult/20190828/20180731-1/C001H001S0020\n",
      "1.0 1.0\n",
      "19 /mnt/Omer/Project/04.ExTRaMapping/AnalysisResult/20190828/20180731-1/C001H001S0023\n",
      "0.0 0.140449438202\n",
      "20 /mnt/Omer/Project/04.ExTRaMapping/AnalysisResult/20190828/20180731-1/C001H001S0025\n",
      "1.0 1.0\n",
      "21 /mnt/Omer/Project/04.ExTRaMapping/AnalysisResult/20190828/20180731-1/C001H001S0026\n",
      "0.248743718593 0.546816479401\n",
      "22 /mnt/Omer/Project/04.ExTRaMapping/AnalysisResult/20190828/20180731-1/C001H001S0027\n",
      "0.754 0.706\n",
      "23 /mnt/Omer/Project/04.ExTRaMapping/AnalysisResult/20190828/20180731-1/C001H001S0028\n",
      "0.996 0.832\n",
      "24 /mnt/Omer/Project/04.ExTRaMapping/AnalysisResult/20190828/20180731-1/C001H001S0030\n",
      "1.0 0.992509363296\n",
      "25 /mnt/Omer/Project/04.ExTRaMapping/AnalysisResult/20190828/20180731-1/C001H001S0031\n",
      "1.0 0.994\n",
      "26 /mnt/Omer/Project/04.ExTRaMapping/AnalysisResult/20190828/20181120-1/C001H001S0006\n",
      "0.0 0.008\n",
      "27 /mnt/Omer/Project/04.ExTRaMapping/AnalysisResult/20190828/20181120-1/C001H001S0008\n",
      "0.036 0.022\n",
      "28 /mnt/Omer/Project/04.ExTRaMapping/AnalysisResult/20190828/20181120-1/C001H001S0012\n",
      "0.0 0.0\n",
      "29 /mnt/Omer/Project/04.ExTRaMapping/AnalysisResult/20190828/20181120-1/C001H001S0016\n",
      "0.27135678392 0.153558052434\n",
      "30 /mnt/Omer/Project/04.ExTRaMapping/AnalysisResult/20190828/20181122-1/C001H001S0010\n",
      "0.0 0.002\n",
      "31 /mnt/Omer/Project/04.ExTRaMapping/AnalysisResult/20190828/20181122-1/C001H001S0020\n",
      "0.550251256281 0.807116104869\n",
      "32 /mnt/Omer/Project/04.ExTRaMapping/AnalysisResult/20190828/20181122-1/C001H001S0022\n",
      "0.778 0.542\n",
      "33 /mnt/Omer/Project/04.ExTRaMapping/AnalysisResult/20190828/20190123-1/C001H001S0004\n",
      "0.0226130653266 0.0131086142322\n",
      "34 /mnt/Omer/Project/04.ExTRaMapping/AnalysisResult/20190828/20190123-1/C001H001S0009\n",
      "0.922110552764 0.975655430712\n",
      "35 /mnt/Omer/Project/04.ExTRaMapping/AnalysisResult/20190828/20190123-1/C001H001S0012\n",
      "0.0175879396985 0.0168539325843\n",
      "36 /mnt/Omer/Project/04.ExTRaMapping/AnalysisResult/20190828/20190123-1/C001H001S0016\n",
      "1.0 1.0\n",
      "37 /mnt/Omer/Project/04.ExTRaMapping/AnalysisResult/20190828/20190123-1/C001H001S0018\n",
      "1.0 1.0\n",
      "38 /mnt/Omer/Project/04.ExTRaMapping/AnalysisResult/20190828/20190123-1/C001H001S0020\n",
      "1.0 1.0\n",
      "39 /mnt/Omer/Project/04.ExTRaMapping/AnalysisResult/20190828/20190123-1/C001H001S0022\n",
      "1.0 1.0\n",
      "40 /mnt/Omer/Project/04.ExTRaMapping/AnalysisResult/20190828/20190123-1/C001H001S0024\n",
      "0.0829145728643 0.24531835206\n",
      "41 /mnt/Omer/Project/04.ExTRaMapping/AnalysisResult/20190828/20190123-1/C001H001S0025\n",
      "0.0 0.0505617977528\n"
     ]
    }
   ],
   "source": [
    "rate_ex = []\n",
    "rate_op = []\n",
    "list_pos_op = []\n",
    "list_pos_ex = []\n",
    "grad_angle ={'ex':[],'op':[]}\n",
    "grad_norm ={'ex':[],'op':[]}\n",
    "\n",
    "#plt.imshow(mask_t, cmap='gray')\n",
    "cmap_extra = set_col_extra()\n",
    "\n",
    "for i, ana_data in (ana_list.iterrows()):\n",
    "    \n",
    "    session = \"{0}/C001H001S{1:0>4}\".format(ana_data[\"sample\"],ana_data[\"session\"])\n",
    "    save_path = os.path.join(os.path.join(opath,out_date), session)    \n",
    "    print(i, save_path)\n",
    "    \n",
    "    pmap_ex = PhaseMap.load(os.path.join(save_path, 'pmap_ex.npy'))\n",
    "    pmap_op = PhaseMap.load(os.path.join(save_path, 'pmap_op_on_ex.npy'))    \n",
    "    pmap_ex.roi = roi_extra\n",
    "    pmap_op.roi = roi_extra\n",
    "    \n",
    "    pv_ex = PhaseVarianceMap(pmap_ex, size=3)\n",
    "    pv_op = PhaseVarianceMap(pmap_op, size=3)\n",
    "        \n",
    "    ps_ex = PhaseVariancePeakMap(pv_ex)\n",
    "    ps_op = PhaseVariancePeakMap(pv_op)\n",
    "    \n",
    "    if False:\n",
    "        path = draw(os.path.join(save_path, 'pmap_ex_mask'), ps_ex)\n",
    "        saveMovie(path)\n",
    "        path = draw(os.path.join(save_path, 'pmap_op_on_ex_mask'), ps_op)\n",
    "        saveMovie(path)\n",
    "        \n",
    "    f_ex, r_ex = rate_non_passive(ps_ex)\n",
    "    f_op, r_op = rate_non_passive(ps_op)\n",
    "    rate_ex.append(r_ex)\n",
    "    rate_op.append(r_op)\n",
    "    \n",
    "    print(r_ex, r_op)\n",
    "    if r_op >= thre_np and r_ex >= thre_np:\n",
    "    \n",
    "        sps_ex = np.mean(ps_ex.data[20:-20],axis=0)\n",
    "        sps_op = np.mean(ps_op.data[20:-20],axis=0)\n",
    "\n",
    "        pos_ex = scipy.ndimage.measurements.center_of_mass(sps_ex)\n",
    "        pos_op = scipy.ndimage.measurements.center_of_mass(sps_op)\n",
    "        \n",
    "        list_pos_op.append(pos_op)\n",
    "        list_pos_ex.append(pos_ex)\n",
    "        \n",
    "        if False:\n",
    "            plt.figure(figsize=(10,4))\n",
    "            plt.subplot(121)\n",
    "            #plt.imshow(sps_op, cmap='jet')\n",
    "            plt.imshow(np.sum(ps_op.data[20:-20],axis=0), cmap=plt.cm.gray_r)\n",
    "            plt.colorbar()\n",
    "            plt.scatter([pos_op[1]], [pos_op[0]], c='w')\n",
    "            plt.title('op')\n",
    "            plt.subplot(122)\n",
    "            #plt.imshow(sps_ex, cmap='jet')\n",
    "            plt.imshow(np.sum(ps_ex.data[20:-20],axis=0), cmap=plt.cm.gray_r)\n",
    "            plt.colorbar()\n",
    "            plt.scatter([pos_ex[1]], [pos_ex[0]], c='w')\n",
    "            plt.title('ex')\n",
    "            plt.savefig(os.path.join(save_path, 'compare_sps.png'))\n",
    "            plt.show()\n",
    "        \n",
    "    elif r_op < thre_np and r_ex < thre_np:\n",
    "        ## phase gradient\n",
    "        pmaps = {'ex':pmap_ex,'op':pmap_op}\n",
    "        for key in pmaps.keys():\n",
    "            \n",
    "            pmap = pmaps[key]            \n",
    "            pmap.data *= roi_extra\n",
    "            pmap.cmap = set_col_extra()\n",
    "            \n",
    "            path = os.path.join(save_path, 'pmap_{0}_grad'.format(key))\n",
    "            if not os.path.exists(path): os.mkdir(path)\n",
    "                \n",
    "            L, H, W = pmap.data.shape\n",
    "            sum_s = 0.\n",
    "            sum_c = 0.\n",
    "            \n",
    "            x = np.arange(W)\n",
    "            y = np.arange(H)\n",
    "            X,Y = np.meshgrid(x, y)\n",
    "            \n",
    "            for f in range(len(pmap.data)):\n",
    "\n",
    "                grad_y, grad_x = np.gradient(pmap.data[f,:], .5, .5)\n",
    "                grad_x = phaseComplement(grad_x)\n",
    "                grad_y = phaseComplement(grad_y)\n",
    "                grad_x *= ps_ex.roi\n",
    "                grad_y *= ps_ex.roi\n",
    "\n",
    "                s = np.sum(np.sum(grad_y))\n",
    "                c = np.sum(np.sum(grad_x))\n",
    "                sum_s += s\n",
    "                sum_c += c\n",
    "\n",
    "                if True:\n",
    "                    #pmap.showFrame(f)\n",
    "                    plt.axes().set_aspect('equal')\n",
    "                    cont = plt.contour(X,Y,pmap.data[f,:], cmap=cmap_extra)\n",
    "                    plt.quiver(\n",
    "                       [W//2], [H//2], [c], [s],\n",
    "                       angles=\"xy\", scale_units='xy',scale=10)\n",
    "                    plt.savefig('{0}/{1:0>6}.png'.format(path, f))\n",
    "                    plt.close()\n",
    "\n",
    "            grad_angle[key].append( np.math.atan2(sum_s, sum_c)  )\n",
    "            grad_norm[key].append( np.linalg.norm([sum_s,sum_c]) / (L*n_pixels)) \n",
    "            \n",
    "            if False: saveMovie(path)\n"
   ]
  },
  {
   "cell_type": "markdown",
   "metadata": {},
   "source": [
    "## 興奮様態の分類"
   ]
  },
  {
   "cell_type": "code",
   "execution_count": 55,
   "metadata": {
    "collapsed": true
   },
   "outputs": [],
   "source": [
    "rate_op = np.array(rate_op)\n",
    "rate_ex = np.array(rate_ex)"
   ]
  },
  {
   "cell_type": "code",
   "execution_count": 56,
   "metadata": {
    "collapsed": false
   },
   "outputs": [
    {
     "data": {
      "text/plain": [
       "array([[ 1.        ,  0.95473728],\n",
       "       [ 0.95473728,  1.        ]])"
      ]
     },
     "execution_count": 56,
     "metadata": {},
     "output_type": "execute_result"
    }
   ],
   "source": [
    "np.corrcoef(rate_op, rate_ex)"
   ]
  },
  {
   "cell_type": "code",
   "execution_count": 57,
   "metadata": {
    "collapsed": false
   },
   "outputs": [
    {
     "data": {
      "image/png": "[encoded data removed]",
      "text/plain": [
       "<matplotlib.figure.Figure at 0x7f24df28bb00>"
      ]
     },
     "metadata": {},
     "output_type": "display_data"
    }
   ],
   "source": [
    "plt.figure(figsize=(5,5))\n",
    "g = plt.subplot()\n",
    "g.scatter(rate_op, rate_ex, c='k')\n",
    "g.set_xlim([0.0, 1.0])\n",
    "g.set_ylim([0.0, 1.0])\n",
    "g.plot([0.0, 1.0],[0.0, 1.0], c='k', linestyle='dashed')\n",
    "g.set_aspect('equal')\n",
    "plt.title('%NP')\n",
    "\n",
    "plt.savefig(os.path.join(os.path.join(opath,out_date), 'corr_npr.png'))\n"
   ]
  },
  {
   "cell_type": "code",
   "execution_count": 58,
   "metadata": {
    "collapsed": true
   },
   "outputs": [],
   "source": [
    "thre = 0.5"
   ]
  },
  {
   "cell_type": "code",
   "execution_count": 59,
   "metadata": {
    "collapsed": false
   },
   "outputs": [],
   "source": [
    "TP = np.where(( (rate_op>=thre) * (rate_ex>=thre))==True)[0]\n",
    "FP = np.where(( (rate_op< thre) * (rate_ex>=thre))==True)[0]\n",
    "TN = np.where(( (rate_op< thre) * (rate_ex< thre))==True)[0]\n",
    "FN = np.where(( (rate_op>=thre) * (rate_ex< thre))==True)[0]"
   ]
  },
  {
   "cell_type": "code",
   "execution_count": 60,
   "metadata": {
    "collapsed": false
   },
   "outputs": [
    {
     "data": {
      "text/plain": [
       "(array([ 3, 17, 18, 20, 22, 23, 24, 25, 31, 32, 34, 36, 37, 38, 39]),\n",
       " array([6]),\n",
       " array([ 0,  1,  2,  4,  5,  7,  8,  9, 10, 11, 12, 13, 14, 15, 16, 19, 26,\n",
       "        27, 28, 29, 30, 33, 35, 40, 41]),\n",
       " array([21]))"
      ]
     },
     "execution_count": 60,
     "metadata": {},
     "output_type": "execute_result"
    }
   ],
   "source": [
    "TP,FP,TN,FN"
   ]
  },
  {
   "cell_type": "code",
   "execution_count": 87,
   "metadata": {
    "collapsed": false
   },
   "outputs": [
    {
     "name": "stdout",
     "output_type": "stream",
     "text": [
      "sensitivity\n",
      "0.9375\n"
     ]
    }
   ],
   "source": [
    "print('sensitivity')\n",
    "print(len(TP)/(len(TP)+len(FN)))"
   ]
  },
  {
   "cell_type": "code",
   "execution_count": 88,
   "metadata": {
    "collapsed": false
   },
   "outputs": [
    {
     "name": "stdout",
     "output_type": "stream",
     "text": [
      "specificity\n",
      "0.9375\n"
     ]
    }
   ],
   "source": [
    "print('specificity')\n",
    "print(len(TP)/(len(TP)+len(FP)))"
   ]
  },
  {
   "cell_type": "markdown",
   "metadata": {},
   "source": [
    "## Non-Passiveの旋回中心位置の相関性"
   ]
  },
  {
   "cell_type": "code",
   "execution_count": 76,
   "metadata": {
    "collapsed": false
   },
   "outputs": [
    {
     "data": {
      "text/plain": [
       "(96, 90)"
      ]
     },
     "execution_count": 76,
     "metadata": {},
     "output_type": "execute_result"
    }
   ],
   "source": [
    "L, H, W = pmap_ex.data.shape\n",
    "H, W"
   ]
  },
  {
   "cell_type": "code",
   "execution_count": 77,
   "metadata": {
    "collapsed": false
   },
   "outputs": [],
   "source": [
    "arr_op = np.array(list_pos_op)\n",
    "arr_ex = np.array(list_pos_ex)\n",
    "\n",
    "x_op = arr_op[:,1] - W//2\n",
    "y_op = arr_op[:,0] - H//2\n",
    "x_ex = arr_ex[:,1] - W//2\n",
    "y_ex = arr_ex[:,0] - H//2\n",
    "\n",
    "norm_op = np.linalg.norm(np.array([x_op, y_op]), axis=0)\n",
    "norm_ex = np.linalg.norm(np.array([x_ex, y_ex]), axis=0)\n",
    "\n",
    "theta_op = np.array( [ np.math.atan2(y,x) for y, x in zip(y_op, x_op)])\n",
    "theta_ex = np.array( [ np.math.atan2(y,x) for y, x in zip(y_ex, x_ex)])"
   ]
  },
  {
   "cell_type": "code",
   "execution_count": 78,
   "metadata": {
    "collapsed": false
   },
   "outputs": [
    {
     "data": {
      "image/png": "[encoded data removed]",
      "text/plain": [
       "<matplotlib.figure.Figure at 0x7f24df33b908>"
      ]
     },
     "metadata": {},
     "output_type": "display_data"
    }
   ],
   "source": [
    "plt.figure(figsize=(10,10))\n",
    "\n",
    "g=plt.subplot(121)\n",
    "g.scatter(theta_op, theta_ex, c='k')\n",
    "g.set_xlim([-np.pi, np.pi])\n",
    "g.set_ylim([-np.pi, np.pi])\n",
    "g.plot([-np.pi, np.pi], [-np.pi, np.pi], c='k', linestyle='dashed')\n",
    "g.set_aspect('equal')\n",
    "plt.title('theta')\n",
    "\n",
    "g=plt.subplot(122)\n",
    "g.scatter(norm_op, norm_ex, c='k')\n",
    "g.set_xlim([0, 50])\n",
    "g.set_ylim([0, 50])\n",
    "g.plot([0, 50],[0, 50], c='k', linestyle='dashed')\n",
    "g.set_aspect('equal')\n",
    "plt.title('norm')\n",
    "\n",
    "plt.savefig(os.path.join(os.path.join(opath,out_date), 'corr_pos.png'))\n"
   ]
  },
  {
   "cell_type": "code",
   "execution_count": 64,
   "metadata": {
    "collapsed": false
   },
   "outputs": [
    {
     "data": {
      "text/plain": [
       "array([[ 1.        ,  0.74483339],\n",
       "       [ 0.74483339,  1.        ]])"
      ]
     },
     "execution_count": 64,
     "metadata": {},
     "output_type": "execute_result"
    }
   ],
   "source": [
    "np.corrcoef(theta_op, theta_ex)"
   ]
  },
  {
   "cell_type": "code",
   "execution_count": 65,
   "metadata": {
    "collapsed": false
   },
   "outputs": [
    {
     "data": {
      "text/plain": [
       "array([[ 1.        ,  0.76112234],\n",
       "       [ 0.76112234,  1.        ]])"
      ]
     },
     "execution_count": 65,
     "metadata": {},
     "output_type": "execute_result"
    }
   ],
   "source": [
    "np.corrcoef(norm_op, norm_ex)"
   ]
  },
  {
   "cell_type": "code",
   "execution_count": 66,
   "metadata": {
    "collapsed": false
   },
   "outputs": [
    {
     "data": {
      "text/plain": [
       "11.346340277202186"
      ]
     },
     "execution_count": 66,
     "metadata": {},
     "output_type": "execute_result"
    }
   ],
   "source": [
    "np.mean(np.linalg.norm(arr_op - arr_ex, axis=1))"
   ]
  },
  {
   "cell_type": "markdown",
   "metadata": {},
   "source": [
    "## Passiveの興奮伝播方向の相関"
   ]
  },
  {
   "cell_type": "code",
   "execution_count": 79,
   "metadata": {
    "collapsed": false
   },
   "outputs": [
    {
     "name": "stdout",
     "output_type": "stream",
     "text": [
      "-2.7308427154264887,-3.5262443648696236\n"
     ]
    }
   ],
   "source": [
    "for i, (op, ex) in enumerate(zip(grad_angle['op'], grad_angle['ex'])):\n",
    "    if abs(ex-op) > np.pi:\n",
    "        if ex > op: ex -= 2*np.pi\n",
    "        else: ex += 2*np.pi\n",
    "        print ('{0},{1}'.format(op, ex))\n",
    "        grad_angle['ex'][i] = ex\n",
    "        "
   ]
  },
  {
   "cell_type": "code",
   "execution_count": 82,
   "metadata": {
    "collapsed": false
   },
   "outputs": [
    {
     "data": {
      "image/png": "[encoded data removed]",
      "text/plain": [
       "<matplotlib.figure.Figure at 0x7f24e18bcef0>"
      ]
     },
     "metadata": {},
     "output_type": "display_data"
    }
   ],
   "source": [
    "plt.figure(figsize=(10,10))\n",
    "\n",
    "g=plt.subplot(121)\n",
    "g.scatter(grad_angle['op'], grad_angle['ex'], c='k')\n",
    "g.set_xlim([-np.pi, np.pi])\n",
    "g.set_ylim([-np.pi, np.pi])\n",
    "g.plot([-np.pi, np.pi], [-np.pi, np.pi], c='k', linestyle='dashed')\n",
    "g.set_aspect('equal')\n",
    "plt.title('theta')\n",
    "\n",
    "g=plt.subplot(122)\n",
    "g.scatter(grad_norm['op'], grad_norm['ex'], c='k')\n",
    "g.set_xlim([0, 0.1])\n",
    "g.set_ylim([0, 0.1])\n",
    "g.plot([0, 0.1],[0, 0.1], c='k', linestyle='dashed')\n",
    "g.set_aspect('equal')\n",
    "plt.title('norm')\n",
    "\n",
    "plt.savefig(os.path.join(os.path.join(opath,out_date), 'passive_grad.png'))"
   ]
  },
  {
   "cell_type": "code",
   "execution_count": 69,
   "metadata": {
    "collapsed": false
   },
   "outputs": [
    {
     "data": {
      "text/plain": [
       "array([[ 1.        ,  0.99187192],\n",
       "       [ 0.99187192,  1.        ]])"
      ]
     },
     "execution_count": 69,
     "metadata": {},
     "output_type": "execute_result"
    }
   ],
   "source": [
    "np.corrcoef(grad_angle['op'], grad_angle['ex'])"
   ]
  },
  {
   "cell_type": "code",
   "execution_count": 70,
   "metadata": {
    "collapsed": false
   },
   "outputs": [
    {
     "data": {
      "text/plain": [
       "array([[ 1.        ,  0.70478542],\n",
       "       [ 0.70478542,  1.        ]])"
      ]
     },
     "execution_count": 70,
     "metadata": {},
     "output_type": "execute_result"
    }
   ],
   "source": [
    "np.corrcoef(grad_norm['op'], grad_norm['ex'])"
   ]
  },
  {
   "cell_type": "code",
   "execution_count": 71,
   "metadata": {
    "collapsed": false
   },
   "outputs": [
    {
     "data": {
      "text/plain": [
       "25"
      ]
     },
     "execution_count": 71,
     "metadata": {},
     "output_type": "execute_result"
    }
   ],
   "source": [
    "len(grad_angle['op'])"
   ]
  },
  {
   "cell_type": "code",
   "execution_count": 102,
   "metadata": {
    "collapsed": true
   },
   "outputs": [],
   "source": [
    "mask_roi = np.copy(roi_extra)\n",
    "mask_roi[(mask_roi != 0)] = np.nan"
   ]
  },
  {
   "cell_type": "code",
   "execution_count": 105,
   "metadata": {
    "collapsed": false
   },
   "outputs": [],
   "source": [
    "plt.imsave(\n",
    "    os.path.join(os.path.join(opath, out_date), 'mask_roi.png'), \n",
    "    mask_roi, cmap = \"gray\", vmax= 1,vmin=0)"
   ]
  }
 ],
 "metadata": {
  "anaconda-cloud": {},
  "kernelspec": {
   "display_name": "Python [Root]",
   "language": "python",
   "name": "Python [Root]"
  },
  "language_info": {
   "codemirror_mode": {
    "name": "ipython",
    "version": 3
   },
   "file_extension": ".py",
   "mimetype": "text/x-python",
   "name": "python",
   "nbconvert_exporter": "python",
   "pygments_lexer": "ipython3",
   "version": "3.5.2"
  }
 },
 "nbformat": 4,
 "nbformat_minor": 2
}
